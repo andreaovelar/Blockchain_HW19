{
 "cells": [
  {
   "cell_type": "code",
   "execution_count": 1,
   "metadata": {},
   "outputs": [],
   "source": [
    "import subprocess\n",
    "import json\n",
    "import os\n",
    "from constants import *\n",
    "from web3 import Web3\n",
    "from bit import *\n",
    "from eth_account import Account\n",
    "from dotenv import load_dotenv  \n",
    "from web3.middleware import geth_poa_middleware\n",
    "from bit.network import NetworkAPI\n",
    "\n",
    "\n"
   ]
  },
  {
   "cell_type": "code",
   "execution_count": 2,
   "metadata": {},
   "outputs": [],
   "source": [
    "w3 = Web3(Web3.HTTPProvider(\"http://127.0.0.1.8545\"))"
   ]
  },
  {
   "cell_type": "code",
   "execution_count": 3,
   "metadata": {},
   "outputs": [],
   "source": [
    "#Set this mnemonic as an environment variable, and include the one you generated as a fallback using:\n",
    "mnemonic = os.getenv('MNEMONIC', 'govern obscure fiscal ritual crop two gasp canyon lucky author nest body')"
   ]
  },
  {
   "cell_type": "code",
   "execution_count": 4,
   "metadata": {},
   "outputs": [],
   "source": [
    "\n",
    "def derive_wallets(coin,mnemonic,numderive):\n",
    "    command ='php derive -g --mnemonic=\"'+str(mnemonic)+'\" --numderive='+str(numderive)+' --coin='+str(coin)+' --format=json'\n",
    "    p = subprocess.Popen(command, stdout=subprocess.PIPE, shell=True)\n",
    "    (output, err) = p.communicate()\n",
    "    p_status = p.wait()\n",
    "    keys = json.loads(output)\n",
    "    return(keys)"
   ]
  },
  {
   "cell_type": "code",
   "execution_count": 5,
   "metadata": {},
   "outputs": [
    {
     "data": {
      "text/plain": [
       "[{'path': \"m/44'/60'/0'/0/0\",\n",
       "  'address': '0x30B7C972578985dD504Cd6E1846d55faF25CF37E',\n",
       "  'xprv': 'xprvA2vd2H5AGg41qos1QWDY6nbJqUTdzYWmVx1kADyzu2nTY78ZUnnALBWrLwwQupKwza17Rbf9L8zb6bn5yu1GkpJSAucFoUBXMvhV1fG7QjN',\n",
       "  'xpub': 'xpub6FuyRnc473cK4HwUWXkYTvY3PWJ8Q1EcsAwLxcPcTNKSQuTi2L6QsyqLCFdffGrqbjCqr6st9DvZdEpaKPjb1GWBJE9MXaKX5gp87DnCJTG',\n",
       "  'privkey': '0x0d628c5493ef1224eaf0f6f739bc763562bffb8d37fb74ac4cf1ce03f5ba801d',\n",
       "  'pubkey': '036c2b4274f6e7c52eaa6395ebc4d6a85d533283cd6ad392bd18b7ed2be79357c7',\n",
       "  'pubkeyhash': 'fe0b1817eb8eb27bf125853841cef97c558b615a',\n",
       "  'index': 0},\n",
       " {'path': \"m/44'/60'/0'/0/1\",\n",
       "  'address': '0x09a346a62B1A55A67028B0D028F4d163E30A47aC',\n",
       "  'xprv': 'xprvA2vd2H5AGg41ryPvoLD8rFmjx27ULAf9sZf7DkNkrYaghSCQtnX3c5dBNEZxpfdaCpJyNo3bZj8upHAp9yfuTpzySLvDEzHwLZ92zuNuEeA',\n",
       "  'xpub': 'xpub6FuyRnc473cK5TUPuMk9DPiUW3wxjdP1Enai28nNQt7faEXZSKqJ9swfDUhws9L4qUwvXer5aNE8qPAUzaQpdcaq6NUVVWC8oK3R83JXp7U',\n",
       "  'privkey': '0x7f546b1cd0bb7d90275eb9c1b594f21e5cd7bce9ddd61fedcc461a334dda3ba4',\n",
       "  'pubkey': '0209c02db4ebf841bde78f75e77d18d67d148afe67fbcd1665ab8e1c14ff104164',\n",
       "  'pubkeyhash': 'da1b7fd4c84237b0175275bd5c1982ca8651cdef',\n",
       "  'index': 1},\n",
       " {'path': \"m/44'/60'/0'/0/2\",\n",
       "  'address': '0x0354A4E6265808e0e9De555fb60d4D08D6c4B67d',\n",
       "  'xprv': 'xprvA2vd2H5AGg41uRoGbW4h3drqTKM6n4tnZzSYHwtR7RqZnMREHj4BbW83Ujrw1xzmGGmyLv77iPWvsEKi2odETdFvAwCfURU1PH6FQTPjHxD',\n",
       "  'xpub': 'xpub6FuyRnc473cK7usjhXbhQmoa1MBbBXcdwDN96LJ2fmNYf9kNqGNS9JSXL3FTY8QAzModsPxSWVKiFUFFHCwgXcyLXGfpabCUYMKZvNCcxga',\n",
       "  'privkey': '0x9cef0f28cf8f905d81739d91b83438d9b080daae6b52888d4ff2e98ae1b28b06',\n",
       "  'pubkey': '03d376cc6a686c2f140d766f2aae9574c1f976d78b58c0dc371123c94d7f2adbd6',\n",
       "  'pubkeyhash': 'b37c6187894ee38594d66e71cdb1c888feb248d6',\n",
       "  'index': 2}]"
      ]
     },
     "execution_count": 5,
     "metadata": {},
     "output_type": "execute_result"
    }
   ],
   "source": [
    "#output ETH\n",
    "derive_wallets(ETH,mnemonic,3)"
   ]
  },
  {
   "cell_type": "code",
   "execution_count": 6,
   "metadata": {},
   "outputs": [
    {
     "data": {
      "text/plain": [
       "[{'path': \"m/44'/1'/0'/0/0\",\n",
       "  'address': 'mmPhfRz2gXLoXMQtzgQ3vxPrwK6GFcugkY',\n",
       "  'xprv': 'tprv8kC6Gqdx3u26YnshLumwXrQPYRXB9aq5Hev9eT9u5goBcLNXZTTdbQVRvgfoddgspyeC8W3FyHBkWUqsn21u3kQEcbKS8TGAaDw72mc7CSF',\n",
       "  'xpub': 'tpubDGt8RFgCCGhmSFuVEZSXwG4W7T37Jv1yrxWvvyCCVxbaSpdJBrHDmu7J6q8DJncANhwtEXHGywpQAcgTqqoM8PwX6Zq22QAxGJGs74tAFSu',\n",
       "  'privkey': 'cMe4AZk9arECFaaS7b2fd4r1wVxGmGzc6LpvaqfcwoDKLKLfrGAM',\n",
       "  'pubkey': '02c86ec42635c39fead9791f6d9565510936eb00f3d972994f280c026b732aea84',\n",
       "  'pubkeyhash': '4071a1182043a18d2441f3934b1e9af36f5bbc27',\n",
       "  'index': 0},\n",
       " {'path': \"m/44'/1'/0'/0/1\",\n",
       "  'address': 'mrwjTLQMeqrbU4eg6WGyL7xCf25ewAHsn2',\n",
       "  'xprv': 'tprv8kC6Gqdx3u26b7JH1KFn9aLvxLgs8NWGfUvrfN5FXUguxushHFfHtijLHgAYrFuYN9fkhp15bzsmPN75chWinahPLrc8kjSJKxeM7a4ybhY',\n",
       "  'xpub': 'tpubDGt8RFgCCGhmUaL4txvNYz13XNCoHhhBEnXdwt7YwkVJoQ8TueUt5DMCTpX4Vm5K8s4xbShL9yPS4QcNFEdRiUQ2b42EM9TxRBRxP51KweJ',\n",
       "  'privkey': 'cNNW5cXtzZxJaszJzz15YD8oMHuzRBvZJhcgb661WUipfmtw8aX6',\n",
       "  'pubkey': '02d0e104059ea5e7705431d07d791180f626855bb6eb7e6220817fb3abd15a76bd',\n",
       "  'pubkeyhash': '7d59107c11501c8217f5b85ea6bfdc97588e48af',\n",
       "  'index': 1},\n",
       " {'path': \"m/44'/1'/0'/0/2\",\n",
       "  'address': 'n17qNGDWcecyRgkxXRLmkN47nw6gCFVKLS',\n",
       "  'xprv': 'tprv8kC6Gqdx3u26eRxHFnBvgU7wTdziBGpLdur57tTmjYc6Ce3UVRPKeeDzWRvuM4Dpin2vwkRkBeTNRwLxYm5QZJz2NoUoGn77JEvAUhPfQE9',\n",
       "  'xpub': 'tpubDGt8RFgCCGhmXtz59RrX5sn42fWeLc1FDDSrQQW59pQV38JF7pCuq8qrgb4NzUfCkbvW1khSK1QoqykKPqoaWUWzQkH2je2rJjWHZdJkQUC',\n",
       "  'privkey': 'cRRjPzY1AkWZXp4zX3Cu21kbsTDbVLDLQd83QZcLc6QyhYokpdWh',\n",
       "  'pubkey': '039226f927ffaa8117d391f074ba49c8d6399ed147c36dba604f800d15c88d4e1b',\n",
       "  'pubkeyhash': 'd7032a73b66fdb74369782e5eb6a89ee554b0d3f',\n",
       "  'index': 2}]"
      ]
     },
     "execution_count": 6,
     "metadata": {},
     "output_type": "execute_result"
    }
   ],
   "source": [
    "#output BTCTEST\n",
    "derive_wallets(BTCTEST,mnemonic,3)"
   ]
  },
  {
   "cell_type": "code",
   "execution_count": 7,
   "metadata": {},
   "outputs": [
    {
     "name": "stdout",
     "output_type": "stream",
     "text": [
      "0x0d628c5493ef1224eaf0f6f739bc763562bffb8d37fb74ac4cf1ce03f5ba801d\n",
      "cMe4AZk9arECFaaS7b2fd4r1wVxGmGzc6LpvaqfcwoDKLKLfrGAM\n"
     ]
    }
   ],
   "source": [
    "coins = {'eth':derive_wallets(ETH,mnemonic,3),'btc-test': derive_wallets(BTCTEST,mnemonic,3)}\n",
    "\n",
    "eth_privkey = coins['eth'][0]['privkey']\n",
    "print(eth_privkey)\n",
    "btc_privkey = coins['btc-test'][0]['privkey']\n",
    "print(btc_privkey)"
   ]
  },
  {
   "cell_type": "code",
   "execution_count": 8,
   "metadata": {},
   "outputs": [],
   "source": [
    "def priv_key_to_account(coin,priv_key):\n",
    "    if coin==ETH:\n",
    "        return Account.privateKeyToAccount(priv_key)\n",
    "    else:\n",
    "        return PrivateKeyTestnet(priv_key)\n",
    "    \n"
   ]
  },
  {
   "cell_type": "code",
   "execution_count": 9,
   "metadata": {},
   "outputs": [
    {
     "data": {
      "text/plain": [
       "<eth_account.signers.local.LocalAccount at 0x8238d08>"
      ]
     },
     "execution_count": 9,
     "metadata": {},
     "output_type": "execute_result"
    }
   ],
   "source": [
    "eth_account=priv_key_to_account(ETH,eth_privkey)\n",
    "eth_account"
   ]
  },
  {
   "cell_type": "code",
   "execution_count": 10,
   "metadata": {},
   "outputs": [
    {
     "data": {
      "text/plain": [
       "<PrivateKeyTestnet: mmPhfRz2gXLoXMQtzgQ3vxPrwK6GFcugkY>"
      ]
     },
     "execution_count": 10,
     "metadata": {},
     "output_type": "execute_result"
    }
   ],
   "source": [
    "btc_account=priv_key_to_account(BTC,btc_privkey)\n",
    "btc_account"
   ]
  },
  {
   "cell_type": "code",
   "execution_count": 11,
   "metadata": {},
   "outputs": [],
   "source": [
    "def create_tx(coin,account,to,amount):\n",
    "    if coin==ETH:\n",
    "        gasEstimate = w3.eth.estimateGas({\"from\": account.address, \"to\": to, \"value\": amount})\n",
    "        return {\n",
    "            \"to\": to,\n",
    "            \"from\": account.address,\n",
    "            \"value\": amount,\n",
    "            \"gas\": gasEstimate,\n",
    "            \"gasPrice\": w3.eth.gasPrice,\n",
    "            \"nonce\": w3.eth.getTransactionCount(account.address),\n",
    "            \"chainID\": w3.eth.chainId\n",
    "        }\n",
    "    else:\n",
    "        return PrivateKeyTestnet.prepare_transaction(account.address, [(to, amount, BTC)])"
   ]
  },
  {
   "cell_type": "code",
   "execution_count": 12,
   "metadata": {},
   "outputs": [
    {
     "data": {
      "text/plain": [
       "'{\"unspents\":[{\"amount\":2457848,\"confirmations\":1,\"script\":\"76a9144071a1182043a18d2441f3934b1e9af36f5bbc2788ac\",\"txid\":\"b161f1edb24f8d13c5b3303070fcee36e7132500414e654f1b0e6c522f04b6bd\",\"txindex\":1,\"type\":\"p2pkh\",\"vsize\":148,\"segwit\":false}],\"outputs\":[[\"mmPhfRz2gXLoXMQtzgQ3vxPrwK6GFcugkY\",1000],[\"mmPhfRz2gXLoXMQtzgQ3vxPrwK6GFcugkY\",2431536]]}'"
      ]
     },
     "execution_count": 12,
     "metadata": {},
     "output_type": "execute_result"
    }
   ],
   "source": [
    "create_tx(BTC,btc_account,'mmPhfRz2gXLoXMQtzgQ3vxPrwK6GFcugkY',0.00001)\n",
    "#need to funnd account "
   ]
  },
  {
   "cell_type": "code",
   "execution_count": 13,
   "metadata": {},
   "outputs": [
    {
     "data": {
      "text/plain": [
       "'{\"unspents\":[{\"amount\":2457848,\"confirmations\":1,\"script\":\"76a9144071a1182043a18d2441f3934b1e9af36f5bbc2788ac\",\"txid\":\"b161f1edb24f8d13c5b3303070fcee36e7132500414e654f1b0e6c522f04b6bd\",\"txindex\":1,\"type\":\"p2pkh\",\"vsize\":148,\"segwit\":false}],\"outputs\":[[\"mrwjTLQMeqrbU4eg6WGyL7xCf25ewAHsn2\",1000],[\"mmPhfRz2gXLoXMQtzgQ3vxPrwK6GFcugkY\",2431536]]}'"
      ]
     },
     "execution_count": 13,
     "metadata": {},
     "output_type": "execute_result"
    }
   ],
   "source": [
    "create_tx(BTC,btc_account,'mrwjTLQMeqrbU4eg6WGyL7xCf25ewAHsn2',0.00001)"
   ]
  },
  {
   "cell_type": "code",
   "execution_count": 14,
   "metadata": {},
   "outputs": [
    {
     "data": {
      "text/plain": [
       "<PrivateKeyTestnet: mmPhfRz2gXLoXMQtzgQ3vxPrwK6GFcugkY>"
      ]
     },
     "execution_count": 14,
     "metadata": {},
     "output_type": "execute_result"
    }
   ],
   "source": [
    "btc_account"
   ]
  },
  {
   "cell_type": "code",
   "execution_count": 15,
   "metadata": {},
   "outputs": [],
   "source": [
    "def send_tx(coin,account, to, amount):\n",
    "    tx = create_tx(coin,account,to,amount)\n",
    "    signed_tx = account.sign_transaction(tx)\n",
    "    if coin==ETH:\n",
    "        result = w3.eth.sendRawTransaction(signed_tx.rawTransaction)\n",
    "    else: \n",
    "        result=NetworkAPI.broadcast_tx_testnet(signed_tx)\n",
    "    print(result)\n",
    "    return result\n"
   ]
  },
  {
   "cell_type": "code",
   "execution_count": 16,
   "metadata": {},
   "outputs": [
    {
     "name": "stdout",
     "output_type": "stream",
     "text": [
      "None\n"
     ]
    }
   ],
   "source": [
    "#Send some transactions!\n",
    "send_tx(BTCTEST,btc_account,'mrwjTLQMeqrbU4eg6WGyL7xCf25ewAHsn2',0.0001)"
   ]
  },
  {
   "cell_type": "code",
   "execution_count": 17,
   "metadata": {},
   "outputs": [],
   "source": [
    "#Local PoA Ethereum transaction\n",
    "\n",
    "from web3.middleware import geth_poa_middleware\n",
    "\n",
    "w3.middleware_onion.inject(geth_poa_middleware, layer=0)\n",
    "\n"
   ]
  },
  {
   "cell_type": "code",
   "execution_count": 19,
   "metadata": {},
   "outputs": [],
   "source": [
    "create_tx(ETH,eth_account,'0x30B7C972578985dD504Cd6E1846d55faF25CF37E',1)"
   ]
  },
  {
   "cell_type": "code",
   "execution_count": 20,
   "metadata": {},
   "outputs": [],
   "source": [
    "send_tx(ETH,eth_account,'0x30B7C972578985dD504Cd6E1846d55faF25CF37E',1)"
   ]
  },
  {
   "cell_type": "code",
   "execution_count": null,
   "metadata": {},
   "outputs": [],
   "source": []
  },
  {
   "cell_type": "code",
   "execution_count": null,
   "metadata": {},
   "outputs": [],
   "source": []
  },
  {
   "cell_type": "code",
   "execution_count": null,
   "metadata": {},
   "outputs": [],
   "source": []
  },
  {
   "cell_type": "code",
   "execution_count": null,
   "metadata": {},
   "outputs": [],
   "source": []
  },
  {
   "cell_type": "code",
   "execution_count": null,
   "metadata": {},
   "outputs": [],
   "source": []
  }
 ],
 "metadata": {
  "kernelspec": {
   "display_name": "Python 3",
   "language": "python",
   "name": "python3"
  },
  "language_info": {
   "codemirror_mode": {
    "name": "ipython",
    "version": 3
   },
   "file_extension": ".py",
   "mimetype": "text/x-python",
   "name": "python",
   "nbconvert_exporter": "python",
   "pygments_lexer": "ipython3",
   "version": "3.7.7"
  }
 },
 "nbformat": 4,
 "nbformat_minor": 4
}
